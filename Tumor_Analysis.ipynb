{
  "nbformat": 4,
  "nbformat_minor": 0,
  "metadata": {
    "colab": {
      "provenance": [],
      "collapsed_sections": [
        "NcgyXP9l6d6b"
      ],
      "mount_file_id": "1vBR3l898pLkKFpwGbnOCL5m6dF0TLTkx",
      "authorship_tag": "ABX9TyMfRd4CAEa5Tse6u/50yPo+",
      "include_colab_link": true
    },
    "kernelspec": {
      "name": "python3",
      "display_name": "Python 3"
    },
    "language_info": {
      "name": "python"
    }
  },
  "cells": [
    {
      "cell_type": "markdown",
      "metadata": {
        "id": "view-in-github",
        "colab_type": "text"
      },
      "source": [
        "<a href=\"https://colab.research.google.com/github/rhausman/brain_tumor_analysis/blob/main/Tumor_Analysis.ipynb\" target=\"_parent\"><img src=\"https://colab.research.google.com/assets/colab-badge.svg\" alt=\"Open In Colab\"/></a>"
      ]
    },
    {
      "cell_type": "code",
      "source": [
        "from google.colab import drive\n",
        "drive.mount('/content/drive')"
      ],
      "metadata": {
        "colab": {
          "base_uri": "https://localhost:8080/"
        },
        "id": "yx5WQsDz_OZk",
        "outputId": "52f61e09-9630-435d-d566-91b7a39662bf"
      },
      "execution_count": null,
      "outputs": [
        {
          "output_type": "stream",
          "name": "stdout",
          "text": [
            "Drive already mounted at /content/drive; to attempt to forcibly remount, call drive.mount(\"/content/drive\", force_remount=True).\n"
          ]
        }
      ]
    },
    {
      "cell_type": "markdown",
      "source": [
        "## Imports"
      ],
      "metadata": {
        "id": "e0TyY1y6_XMh"
      }
    },
    {
      "cell_type": "code",
      "execution_count": 2,
      "metadata": {
        "id": "vJ58QIJP_AP3"
      },
      "outputs": [],
      "source": [
        "import pandas as pd\n",
        "import numpy as np\n",
        "#from sklearn.model_selection import train_test_split \n",
        "\n",
        "import torch\n",
        "from torch.utils.data import Dataset, DataLoader, random_split\n",
        "from torchvision import transforms\n",
        "from torch.utils.data.sampler import SubsetRandomSampler\n",
        "from torch import nn\n",
        "from torch.nn import functional as F\n",
        "import torch.optim as optim\n",
        "from torch._C import NoneType\n",
        "\n",
        "import os\n",
        "import time\n",
        "from copy import deepcopy\n",
        "import skimage \n",
        "from skimage import io\n",
        "from matplotlib import pyplot as plt \n",
        "\n",
        "from PIL import Image\n",
        "from IPython.display import clear_output"
      ]
    },
    {
      "cell_type": "markdown",
      "source": [
        "## Get the data"
      ],
      "metadata": {
        "id": "CmW-i0D1_euu"
      }
    },
    {
      "cell_type": "code",
      "source": [
        "os.environ['KAGGLE_CONFIG_DIR'] = \"/content/drive/MyDrive/kaggle\"\n",
        "%cd /content/drive/MyDrive/kaggle/\n",
        "!kaggle datasets download -d navoneel/brain-mri-images-for-brain-tumor-detection --unzip\n",
        "\"\"\" MORE DATA OPTIONS:\n",
        "!kaggle competitions download -c hpa-single-cell-image-classification # whole cell image thing\n",
        "\n",
        "!kaggle datasets download -d dschettler8845/human-protein-atlas-yellow-cell-tile-dataset\n",
        "\"\"\""
      ],
      "metadata": {
        "colab": {
          "base_uri": "https://localhost:8080/",
          "height": 89
        },
        "id": "m2wBI6n-_d9v",
        "outputId": "1053dc17-a44c-4eab-d755-361bf57efd8a"
      },
      "execution_count": 105,
      "outputs": [
        {
          "output_type": "stream",
          "name": "stdout",
          "text": [
            "/content/drive/MyDrive/kaggle\n",
            "brain-mri-images-for-brain-tumor-detection.zip: Skipping, found more recently modified local copy (use --force to force download)\n"
          ]
        },
        {
          "output_type": "execute_result",
          "data": {
            "text/plain": [
              "' MORE DATA OPTIONS:\\n!kaggle competitions download -c hpa-single-cell-image-classification # whole cell image thing\\n\\n!kaggle datasets download -d dschettler8845/human-protein-atlas-yellow-cell-tile-dataset\\n'"
            ],
            "application/vnd.google.colaboratory.intrinsic+json": {
              "type": "string"
            }
          },
          "metadata": {},
          "execution_count": 105
        }
      ]
    },
    {
      "cell_type": "code",
      "source": [
        "os.listdir()"
      ],
      "metadata": {
        "colab": {
          "base_uri": "https://localhost:8080/"
        },
        "id": "7UHUMm7eIJ-H",
        "outputId": "0142e970-08d8-4c25-ba9b-b9c3a373748a"
      },
      "execution_count": 106,
      "outputs": [
        {
          "output_type": "execute_result",
          "data": {
            "text/plain": [
              "['kaggle.json',\n",
              " 'human-protein-atlas-yellow-cell-tile-dataset.zip',\n",
              " 'brain_tumor_dataset',\n",
              " 'no',\n",
              " 'yes',\n",
              " 'brain-mri-images-for-brain-tumor-detection.zip',\n",
              " '1676335239.pt',\n",
              " '1676336668.pt',\n",
              " '1676337773.pt',\n",
              " '1676339293.pt',\n",
              " '1676341225.pt',\n",
              " '1676341575.pt',\n",
              " '1676342570.pt',\n",
              " '1676343146.pt',\n",
              " '1676354204.pt',\n",
              " '1677558439.pt']"
            ]
          },
          "metadata": {},
          "execution_count": 106
        }
      ]
    },
    {
      "cell_type": "markdown",
      "source": [
        "## Notes\n",
        "* Remove InvertColor transforms\n",
        "* Try using PCA to visualize the latent space. See if it separates the classes."
      ],
      "metadata": {
        "id": "GwQVNBJKACJt"
      }
    },
    {
      "cell_type": "markdown",
      "source": [
        "## Set up Dataset"
      ],
      "metadata": {
        "id": "AjO6ZutCDE_4"
      }
    },
    {
      "cell_type": "code",
      "source": [
        "DEFAULT_RES = 500\n",
        "class MyDataSet(Dataset):\n",
        "  def __init__(self, pos_dir: str, neg_dir: str, transform=None, res:int=DEFAULT_RES):\n",
        "    self.pos_dir = pos_dir\n",
        "    self.neg_dir = neg_dir\n",
        "    self.transform = transform\n",
        "    self.pos_filenames = [ os.path.join(pos_dir, x) for x in os.listdir(pos_dir)]\n",
        "    self.neg_filenames = [ os.path.join(neg_dir, x) for x in os.listdir(neg_dir)]\n",
        "\n",
        "    if not self.transform: # kind of need one. \n",
        "      self.transform_list = [\n",
        "          transforms.Resize([res, res]), # maybe should make this bigger\n",
        "          transforms.RandomHorizontalFlip(),\n",
        "          transforms.RandomVerticalFlip(),\n",
        "          #transforms.RandomInvert(),\n",
        "          transforms.ToTensor(),\n",
        "          #transforms.Normalize(mean=[0.485, 0.456, 0.406], std=[0.229, 0.224, 0.225])\n",
        "          ]\n",
        "      self.transform = transforms.Compose(self.transform_list)\n",
        "  \n",
        "  def get_mean_and_std(self):\n",
        "    loader = DataLoader(self, batch_size=10, num_workers=1, shuffle=False)\n",
        "    mean = 0.\n",
        "    std = 0.\n",
        "    nb_samples = 0.\n",
        "    for _data in loader:\n",
        "        data = _data[0]\n",
        "        batch_samples = data.size(0)\n",
        "        data = data.view(batch_samples, data.size(1), -1)\n",
        "        mean += data.mean(2).sum(0)\n",
        "        std += data.std(2).sum(0)\n",
        "        nb_samples += batch_samples\n",
        "    mean /= nb_samples\n",
        "    std /= nb_samples\n",
        "    return mean, std\n",
        "  \n",
        "  def set_up_normalization(self, mean, std):\n",
        "    self.transform_list.append(transforms.Normalize(mean=(mean), std=(std) ))\n",
        "    self.transform = transforms.Compose(self.transform_list)\n",
        "    print(\"Normalization added to transform\")\n",
        "    \n",
        "\n",
        "  def __len__(self):\n",
        "    return len(self.pos_filenames) + len(self.neg_filenames)\n",
        "\n",
        "  def __getitem__(self, x):\n",
        "    #print(\"Index: \", x)\n",
        "    img = None\n",
        "    tumor = None\n",
        "    if x < len(self.neg_filenames): # return a negative\n",
        "      img = self.get_single_image(self.neg_filenames[x])\n",
        "      tumor = 0\n",
        "    else: # return a positive\n",
        "      img = self.get_single_image(self.pos_filenames[x%len(self.neg_filenames)])\n",
        "      tumor = 1\n",
        "    img = img.convert('L')\n",
        "    if self.transform:\n",
        "      #print(\"transforming. shape before\", img.size)\n",
        "      img = self.transform(img)\n",
        "      #print(\"shape after\", img.size)\n",
        "    if img is None:\n",
        "      print(\"Problem: \", x%len(self.neg_filenames), self.pos_filenames[x%len(self.neg_filenames)])\n",
        "    #print(img.size())\n",
        "    return img, tumor\n",
        "\n",
        "  # filename should be absolute path\n",
        "  def get_single_image(self, filename):\n",
        "    img = Image.open(filename)#io.imread(filename)\n",
        "    if img is None:\n",
        "      print(\"YO: \", filename)\n",
        "    return img"
      ],
      "metadata": {
        "id": "DxCOeBevBnkb"
      },
      "execution_count": 3,
      "outputs": []
    },
    {
      "cell_type": "markdown",
      "source": [
        "## View Samples to see if it's working"
      ],
      "metadata": {
        "id": "nsEvokzKIImo"
      }
    },
    {
      "cell_type": "code",
      "source": [
        "def show_batch(batch):\n",
        "  batch = batch[0]\n",
        "  f, axarr = plt.subplots(2,2)\n",
        "  print(batch[0].size())\n",
        "  batch = [ np.squeeze(t.numpy(), axis=0) for t in batch ]\n",
        "  axarr[0][0].imshow(batch[0])\n",
        "  axarr[0][1].imshow(batch[1])\n",
        "  axarr[1][0].imshow(batch[2])\n",
        "  axarr[1][1].imshow(batch[3])\n",
        "  #print(batch, type(batch))\n",
        "\n",
        "ds = MyDataSet(pos_dir = \"/content/drive/MyDrive/kaggle/brain_tumor_dataset/yes\", neg_dir=\"/content/drive/MyDrive/kaggle/brain_tumor_dataset/no\")\n",
        "dl = DataLoader(ds, batch_size=4, shuffle=True, num_workers=0) # for now no extra workers\n",
        "\n",
        "for i, batch in enumerate(dl):\n",
        "  if i ==4:\n",
        "    show_batch(batch)\n",
        "    break"
      ],
      "metadata": {
        "colab": {
          "base_uri": "https://localhost:8080/",
          "height": 287
        },
        "id": "yii6pmm2IFal",
        "outputId": "f4649a2a-88fc-4ff2-8166-990d0c4c4c8b"
      },
      "execution_count": 108,
      "outputs": [
        {
          "output_type": "stream",
          "name": "stdout",
          "text": [
            "torch.Size([1, 500, 500])\n"
          ]
        },
        {
          "output_type": "display_data",
          "data": {
            "text/plain": [
              "<Figure size 432x288 with 4 Axes>"
            ],
            "image/png": "[encoded data removed]"
          },
          "metadata": {
            "needs_background": "light"
          }
        }
      ]
    },
    {
      "cell_type": "markdown",
      "source": [
        "# Classifier"
      ],
      "metadata": {
        "id": "frx4SoTAvOgB"
      }
    },
    {
      "cell_type": "markdown",
      "source": [
        "## Model Definition - Classifier\n",
        "* Idea: VAE with one disentangled latent variable for tumor_presence (0 for no tumor, 1 for tumor)\n",
        "* This way it's both a predictor and example generator. \n",
        "1. to predict: embed an image and look at the latent variable value\n",
        "2. To generate: generate from point in latent space, control the latent variable as desired.\n",
        "* base on: https://ieeexplore.ieee.org/document/9291992 or another paper"
      ],
      "metadata": {
        "id": "iLEa6PokUahT"
      }
    },
    {
      "cell_type": "code",
      "source": [
        "# first I'll do a classifier\n",
        "class Classifier(nn.Module):\n",
        "  def __init__(self, res:int =DEFAULT_RES, confidence=0.75):\n",
        "    super(Classifier, self).__init__()\n",
        "    self.res = res\n",
        "    self.confidence = confidence\n",
        "    self.layers = []\n",
        "    s = (1, self.res, self.res)\n",
        "\n",
        "    self.layers.append(nn.Conv2d(1, 4, 5))\n",
        "    s = 4, s[1] - 4, s[2]-4 # stride is 2 i believe\n",
        "    self.layers.append(nn.MaxPool2d((2,2)))\n",
        "    s = s[0], s[1]/2, s[2]/2\n",
        "    self.layers.append(nn.Conv2d(4, 8, 10))\n",
        "    s = 8, s[1]-9, s[2] - 9\n",
        "    self.layers.append(nn.MaxPool2d(2))\n",
        "    s = s[0], (s[1]-1)/2, (s[2]-1)/2\n",
        "    self.layers.append(nn.Flatten())\n",
        "    s = s[0]*s[1]*s[2], None\n",
        "    self.layers.append(nn.Linear( int(s[0]), 120))\n",
        "    #self.layers.append(nn.ReLU())\n",
        "    self.layers.append(nn.Linear(120, 60) )\n",
        "    #self.layers.append(nn.ReLU())\n",
        "    self.layers.append(nn.Linear(60,20))\n",
        "    #self.layers.append(nn.ReLU())\n",
        "    self.layers.append(nn.Linear(20, 1))\n",
        "    self.layers.append(nn.Sigmoid())\n",
        "    #self.layers = [self.conv1, self.pool1, self.conv2, self.pool2, self.flatten, self.l1, self.l2, self.l3, self.l4, self.sigmoid]\n",
        "    # dropout?\n",
        "    self.seq = nn.Sequential(*self.layers)\n",
        "\n",
        "  def forward(self, x):\n",
        "    #print(\"input shape: \", x.shape)\n",
        "    #for i, layer in enumerate(self.layers):\n",
        "    #  x = layer(x) #F.relu(layer(x))\n",
        "      #print(f\"{i} shape: {x.shape}\")\n",
        "    x = self.seq(x)\n",
        "    return x # get in batch format\n",
        "  \n",
        "  def inference(self, x):\n",
        "    out = self.forward(x)\n",
        "    out = out > self.confidence\n",
        "    return out"
      ],
      "metadata": {
        "id": "rBAmSmhy_IOw"
      },
      "execution_count": 109,
      "outputs": []
    },
    {
      "cell_type": "markdown",
      "source": [
        "## Training"
      ],
      "metadata": {
        "id": "RwNRo_lo6H2D"
      }
    },
    {
      "cell_type": "code",
      "source": [
        "# constants\n",
        "epochs = 40\n",
        "\n",
        "# data\n",
        "ds = MyDataSet(pos_dir = \"/content/drive/MyDrive/kaggle/brain_tumor_dataset/yes\", neg_dir=\"/content/drive/MyDrive/kaggle/brain_tumor_dataset/no\")\n",
        "mean, std = ds.get_mean_and_std() # set up normalization with the same mean and td overall for each\n",
        "ds.set_up_normalization(mean, std)\n",
        "train_set, test_set = random_split(ds, [0.8, 0.2], generator=torch.Generator().manual_seed(42)) # manual seed for reproducible result right now\n",
        "\n",
        "print(f\"Train set: {len(train_set)}, Test set: {len(test_set)}\")\n",
        "train_loader = DataLoader(train_set, batch_size=10, shuffle=True, num_workers=2) # for now no extra workers\n",
        "test_loader = DataLoader(test_set, batch_size=10, shuffle = False, num_workers=0)\n",
        "\n",
        "# save info\n",
        "model_save_name = str(int(time.time())) + \".pt\" # unique name\n",
        "save_path = f\"/content/drive/MyDrive/kaggle/{model_save_name}\"\n",
        "print(\"Training model at \", model_save_name)"
      ],
      "metadata": {
        "colab": {
          "base_uri": "https://localhost:8080/"
        },
        "id": "F28Ntxj_ceay",
        "outputId": "76b977bc-704a-4f49-8b6f-113854ac9960"
      },
      "execution_count": 51,
      "outputs": [
        {
          "output_type": "stream",
          "name": "stdout",
          "text": [
            "Normalization added to transform\n",
            "Train set: 203, Test set: 50\n"
          ]
        }
      ]
    },
    {
      "cell_type": "code",
      "source": [
        "net = Classifier()\n",
        "loss_fxn = nn.BCELoss()\n",
        "optimizer = optim.SGD(net.parameters(), lr=0.001, momentum=0.9)\n",
        "\n",
        "for epoch in range(epochs):\n",
        "  running_loss = 0.\n",
        "  prev_loss = 0.\n",
        "  for i, batch in enumerate(train_loader):\n",
        "    X, y = batch\n",
        "    optimizer.zero_grad()\n",
        "    output = net(X)\n",
        "    output = torch.squeeze(output, 1)\n",
        "    loss = loss_fxn(output, y.float())\n",
        "    loss.backward() # retain_graph=True for multi losses?\n",
        "    optimizer.step()\n",
        "\n",
        "    #print(f\"Output: {output}, labels: {y}, loss: {loss.item()}\")\n",
        "    #stats\n",
        "    running_loss += loss.item()\n",
        "  # save model each epoch\n",
        "  torch.save(net.state_dict(), save_path)\n",
        "    \n",
        "  print(f\"Epoch {epoch} loss: {running_loss} ... Avg per sample: {running_loss/len(ds)}\")\n"
      ],
      "metadata": {
        "colab": {
          "base_uri": "https://localhost:8080/",
          "height": 240
        },
        "id": "6htuQSQCeF37",
        "outputId": "b63fb82f-a952-4197-bef6-b7a91b306362"
      },
      "execution_count": null,
      "outputs": [
        {
          "output_type": "error",
          "ename": "NameError",
          "evalue": "ignored",
          "traceback": [
            "\u001b[0;31m---------------------------------------------------------------------------\u001b[0m",
            "\u001b[0;31mNameError\u001b[0m                                 Traceback (most recent call last)",
            "\u001b[0;32m<ipython-input-7-27ffdc11c845>\u001b[0m in \u001b[0;36m<module>\u001b[0;34m\u001b[0m\n\u001b[1;32m      3\u001b[0m \u001b[0moptimizer\u001b[0m \u001b[0;34m=\u001b[0m \u001b[0moptim\u001b[0m\u001b[0;34m.\u001b[0m\u001b[0mSGD\u001b[0m\u001b[0;34m(\u001b[0m\u001b[0mnet\u001b[0m\u001b[0;34m.\u001b[0m\u001b[0mparameters\u001b[0m\u001b[0;34m(\u001b[0m\u001b[0;34m)\u001b[0m\u001b[0;34m,\u001b[0m \u001b[0mlr\u001b[0m\u001b[0;34m=\u001b[0m\u001b[0;36m0.001\u001b[0m\u001b[0;34m,\u001b[0m \u001b[0mmomentum\u001b[0m\u001b[0;34m=\u001b[0m\u001b[0;36m0.9\u001b[0m\u001b[0;34m)\u001b[0m\u001b[0;34m\u001b[0m\u001b[0;34m\u001b[0m\u001b[0m\n\u001b[1;32m      4\u001b[0m \u001b[0;34m\u001b[0m\u001b[0m\n\u001b[0;32m----> 5\u001b[0;31m \u001b[0;32mfor\u001b[0m \u001b[0mepoch\u001b[0m \u001b[0;32min\u001b[0m \u001b[0mrange\u001b[0m\u001b[0;34m(\u001b[0m\u001b[0mepochs\u001b[0m\u001b[0;34m)\u001b[0m\u001b[0;34m:\u001b[0m\u001b[0;34m\u001b[0m\u001b[0;34m\u001b[0m\u001b[0m\n\u001b[0m\u001b[1;32m      6\u001b[0m   \u001b[0mrunning_loss\u001b[0m \u001b[0;34m=\u001b[0m \u001b[0;36m0.\u001b[0m\u001b[0;34m\u001b[0m\u001b[0;34m\u001b[0m\u001b[0m\n\u001b[1;32m      7\u001b[0m   \u001b[0mprev_loss\u001b[0m \u001b[0;34m=\u001b[0m \u001b[0;36m0.\u001b[0m\u001b[0;34m\u001b[0m\u001b[0;34m\u001b[0m\u001b[0m\n",
            "\u001b[0;31mNameError\u001b[0m: name 'epochs' is not defined"
          ]
        }
      ]
    },
    {
      "cell_type": "markdown",
      "source": [
        "## Validation \n",
        "* Validate on train and validation data to see if the issue is overfitting or mere underperformance/underfitting\n",
        "\n",
        "Good models so far:\n",
        "* 1676343146.pt\n",
        "* 1676354204.pt (fantastic. 40 epochs)"
      ],
      "metadata": {
        "id": "Id0Rj_hJY1YJ"
      }
    },
    {
      "cell_type": "code",
      "source": [
        "desired_model_name = '1676354204.pt'\n",
        "desired_model_path = os.path.join(\"/content/drive/MyDrive/kaggle\", sorted([ x for x in os.listdir() if x[-3:]==\".pt\" ])[-1] if desired_model_name is None else desired_model_name)\n",
        "print('Selected model for evaluation: ', desired_model_path)"
      ],
      "metadata": {
        "colab": {
          "base_uri": "https://localhost:8080/"
        },
        "id": "OaexH9QNNvSD",
        "outputId": "70e626f6-180f-472a-93b5-1c14766c9232"
      },
      "execution_count": 52,
      "outputs": [
        {
          "output_type": "stream",
          "name": "stdout",
          "text": [
            "Selected model for evaluation:  /content/drive/MyDrive/kaggle/1676354204.pt\n"
          ]
        }
      ]
    },
    {
      "cell_type": "code",
      "source": [
        "net = Classifier()\n",
        "net.load_state_dict(torch.load(desired_model_path))\n",
        "net.confidence = 0.75\n",
        "net.eval()\n",
        "\n",
        "def evaluate(model, loader):\n",
        "  all_preds = []\n",
        "  all_labels = []\n",
        "  for i, batch in enumerate(loader):\n",
        "    X, y = batch\n",
        "    out = model.inference(X)\n",
        "    all_preds += list(out.detach().squeeze(1).numpy())\n",
        "    all_labels += list(y.numpy())\n",
        "  all_preds = np.array(all_preds)\n",
        "  all_labels = np.array(all_labels)\n",
        "  f_neg, f_pos, t_neg, t_pos = (np.logical_and(all_preds==0, all_labels==1).sum(), \n",
        "                              np.logical_and(all_preds==1, all_labels==0).sum(), \n",
        "                              np.logical_and(all_preds==0, all_labels==0).sum(), \n",
        "                              np.logical_and(all_preds==1, all_labels==1).sum()\n",
        "                              )\n",
        "  n = float(len(all_labels))\n",
        "  print(f\"False negatives: {f_neg} ({100*f_neg/n}% of total)\")\n",
        "  print(f\"False positives: {f_pos} ({100*f_pos/n}% of total)\")\n",
        "  print(f\"True negatives:  {t_neg} ({100*t_neg/n}% of total)\")\n",
        "  print(f\"True positives:  {t_pos} ({100*t_pos/n}% of total)\")"
      ],
      "metadata": {
        "id": "gZRfSYvw61SI"
      },
      "execution_count": 53,
      "outputs": []
    },
    {
      "cell_type": "code",
      "source": [
        "evaluate(net, test_loader)"
      ],
      "metadata": {
        "colab": {
          "base_uri": "https://localhost:8080/"
        },
        "id": "G2jmRPhnkYEd",
        "outputId": "d266fd1f-341d-4acc-d280-73776049cc69"
      },
      "execution_count": 54,
      "outputs": [
        {
          "output_type": "stream",
          "name": "stdout",
          "text": [
            "False negatives: 0 (0.0% of total)\n",
            "False positives: 1 (2.0% of total)\n",
            "True negatives:  15 (30.0% of total)\n",
            "True positives:  34 (68.0% of total)\n"
          ]
        }
      ]
    },
    {
      "cell_type": "code",
      "source": [
        "evaluate(net, train_loader)"
      ],
      "metadata": {
        "colab": {
          "base_uri": "https://localhost:8080/"
        },
        "id": "N24i9IYe2B5g",
        "outputId": "4c175bfc-f50f-4150-bbfd-80264cbab795"
      },
      "execution_count": 55,
      "outputs": [
        {
          "output_type": "stream",
          "name": "stdout",
          "text": [
            "False negatives: 2 (0.9852216748768473% of total)\n",
            "False positives: 7 (3.4482758620689653% of total)\n",
            "True negatives:  75 (36.94581280788177% of total)\n",
            "True positives:  119 (58.62068965517241% of total)\n"
          ]
        }
      ]
    },
    {
      "cell_type": "markdown",
      "source": [
        "# AutoEncoder"
      ],
      "metadata": {
        "id": "eZqxp9FlvUCf"
      }
    },
    {
      "cell_type": "markdown",
      "source": [
        "## AutoEncoder Model\n",
        "* Create a model that can reconstruct based on point in latent space\n",
        "* Disentangle a dimension of the latent space for tumor presence\n",
        "* Try to disentangle other dimensions in an unsupervised way"
      ],
      "metadata": {
        "id": "NcgyXP9l6d6b"
      }
    },
    {
      "cell_type": "code",
      "source": [
        "# first I'll do a classifier\n",
        "class VAE(nn.Module):\n",
        "  def __init__(self, res:int =DEFAULT_RES, confidence=0.75):\n",
        "    super(VAE, self).__init__()\n",
        "    self.res = res\n",
        "    self.reshape = 1, 4, 8 # channels for managing conv layers\n",
        "    self.confidence = confidence\n",
        "    self.encoder_conv, self.encoder_linear = [], []\n",
        "    self.decoder_linear, self.decoder_conv = [], []\n",
        "\n",
        "    s = (1, self.res, self.res)\n",
        "\n",
        "    self.encoder_conv.append(nn.Conv2d(1, 4, 5))\n",
        "    s = 4, s[1] - 4, s[2]-4 # stride is 2 i believe\n",
        "    self.encoder_conv.append(nn.MaxPool2d((2,2)))\n",
        "    s = s[0], s[1]/2, s[2]/2\n",
        "    self.encoder_conv.append(nn.Conv2d(4, 8, 10))\n",
        "    s = 8, s[1]-9, s[2] - 9\n",
        "    self.encoder_conv.append(nn.MaxPool2d(2))\n",
        "    s = s[0], (s[1]-1)/2, (s[2]-1)/2\n",
        "    self.flatten = nn.Flatten()\n",
        "    s = s[0]*s[1]*s[2], None\n",
        "    self.encoder_linear.append(nn.Linear( int(s[0]), 120))\n",
        "    self.encoder_linear.append(nn.Linear(120, 60) )\n",
        "    \n",
        "    self.encoder_conv = nn.Sequential(*self.encoder_conv)\n",
        "    self.encoder_linear = nn.Sequential(*self.encoder_linear)\n",
        "\n",
        "    def app(l):\n",
        "      self.decoder_linear.append(l)\n",
        "    app(nn.Linear(60,120))\n",
        "    app(nn.Linear(120, int(s[0])) )\n",
        "    self.decoder_linear = nn.Sequential(*self.decoder_linear)\n",
        "\n",
        "    def app(l):\n",
        "      self.decoder_conv.append(l)\n",
        "    app(nn.Upsample(size=(121,121))) #scale_factor=1.1)) #size=() ))\n",
        "    app(nn.ConvTranspose2d(8, 4, 10, padding=2, output_padding=1, stride=2))\n",
        "    app(nn.Upsample(size=(250,250)))\n",
        "    app(nn.ConvTranspose2d(4,1, 5, padding=2, output_padding=1, stride=2))\n",
        "    \"\"\"\n",
        "    app(nn.ConvTranspose2d(8, 6, 10))\n",
        "    app(nn.ConvTranspose2d(6, 4,  8))\n",
        "    app(nn.ConvTranspose2d(4, 1,  8)) #padding=2, output_padding=1, stride=2))\n",
        "    app(nn.ConvTranspose2d(1, 1,  5, padding=2, output_padding=1, stride=2))\n",
        "    \"\"\"\n",
        "    self.decoder_conv = nn.Sequential(*self.decoder_conv)\n",
        "    # todo: add batch norm!\n",
        "    # todo add ReLU or sigmoid, or without it.\n",
        "    # need to de-normalize output to visualize\n",
        "    #self.layers = [self.conv1, self.pool1, self.conv2, self.pool2, self.flatten, self.l1, self.l2, self.l3, self.l4, self.sigmoid]\n",
        "    # dropout?\n",
        "    # self.seq = nn.Sequential(*self.layers)\n",
        "\n",
        "  def forward(self, x):\n",
        "    latent = self.encode(x)\n",
        "    #reconstruction = self.decode(x)\n",
        "    reconstruction = self.decode(latent)\n",
        "    return torch.sigmoid(reconstruction) # activation fxn. Keep in mind we'll have to transform since input was normalized, gotta transform output to compensate\n",
        "  \n",
        "  def encode(self, x):\n",
        "    x = self.encoder_conv(x)\n",
        "    x = self.flatten(x)\n",
        "    return self.encoder_linear(x)\n",
        "  \n",
        "  def decode(self, x):\n",
        "    #x = torch.relu(self.decoder[0](x))\n",
        "    #x = torch.relu(self.decoder[1](x))\n",
        "    x = self.decoder_linear(x)\n",
        "    x = x.view(x.shape[0], 8, 119, 119) # reshape\n",
        "    x = torch.relu(self.decoder_conv(x))\n",
        "    #print(\"x shape: \", x.shape)\n",
        "    # todo decode linear\n",
        "    # todo activation?\n",
        "    return x\n",
        "\n",
        "  def inference(self, x, mean=0, std=1):\n",
        "    out = self.forward(x)\n",
        "    return out.mul(std).add(mean)\n",
        "    return out"
      ],
      "metadata": {
        "id": "nNQDBc-D6cB2"
      },
      "execution_count": 23,
      "outputs": []
    },
    {
      "cell_type": "markdown",
      "source": [
        "## Train Autoencoder"
      ],
      "metadata": {
        "id": "AtisSTrxQkrt"
      }
    },
    {
      "cell_type": "code",
      "source": [
        "# constants\n",
        "epochs = 1\n",
        "\n",
        "# data\n",
        "ds = MyDataSet(pos_dir = \"/content/drive/MyDrive/kaggle/brain_tumor_dataset/yes\", neg_dir=\"/content/drive/MyDrive/kaggle/brain_tumor_dataset/no\")\n",
        "mean, std = ds.get_mean_and_std() # set up normalization with the same mean and td overall for each\n",
        "ds.set_up_normalization(mean, std)\n",
        "train_set, test_set = random_split(ds, [0.8, 0.2], generator=torch.Generator().manual_seed(42)) # manual seed for reproducible result right now\n",
        "\n",
        "print(f\"Train set: {len(train_set)}, Test set: {len(test_set)}\")\n",
        "train_loader = DataLoader(train_set, batch_size=10, shuffle=True, num_workers=2) # for now no extra workers\n",
        "test_loader = DataLoader(test_set, batch_size=10, shuffle = False, num_workers=0)\n",
        "\n",
        "# save info\n",
        "model_save_name = str(int(time.time())) + \".pt\" # unique name\n",
        "save_path = f\"/content/drive/MyDrive/kaggle/{model_save_name}\"\n",
        "print(\"Training model at \", model_save_name)"
      ],
      "metadata": {
        "colab": {
          "base_uri": "https://localhost:8080/"
        },
        "id": "p8_aNpeIQnnu",
        "outputId": "8511f4c5-41db-40a0-a317-57a666174187"
      },
      "execution_count": 24,
      "outputs": [
        {
          "output_type": "stream",
          "name": "stdout",
          "text": [
            "Normalization added to transform\n",
            "Train set: 203, Test set: 50\n",
            "Training model at  1677600789.pt\n"
          ]
        }
      ]
    },
    {
      "cell_type": "code",
      "source": [
        "net = VAE()\n",
        "loss_fxn = nn.MSELoss()\n",
        "optimizer = optim.SGD(net.parameters(), lr=0.001, momentum=0.9)\n",
        "\n",
        "for epoch in range(epochs):\n",
        "  running_loss = 0.\n",
        "  prev_loss = 0.\n",
        "  for i, batch in enumerate(train_loader):\n",
        "    X, y = batch\n",
        "    optimizer.zero_grad()\n",
        "    output = net(X)\n",
        "    output = torch.squeeze(output, 1)\n",
        "    loss = loss_fxn(output, torch.squeeze(X))\n",
        "    loss.backward() # retain_graph=True for multi losses?\n",
        "    optimizer.step()\n",
        "    #print(f\"Output: {output}, labels: {y}, loss: {loss.item()}\")\n",
        "    #stats\n",
        "    running_loss += loss.item()\n",
        "  # save model each epoch\n",
        "  torch.save(net.state_dict(), save_path)\n",
        "    \n",
        "  print(f\"Epoch {epoch} loss: {running_loss} ... Avg per sample: {running_loss/len(ds)}\")\n"
      ],
      "metadata": {
        "colab": {
          "base_uri": "https://localhost:8080/"
        },
        "id": "_ydsiz30RDZ2",
        "outputId": "9eaef729-8df4-42f1-df20-7a2984ff877d"
      },
      "execution_count": 25,
      "outputs": [
        {
          "output_type": "stream",
          "name": "stdout",
          "text": [
            "Epoch 0 loss: 31.045974612236023 ... Avg per sample: 0.12271136210369969\n"
          ]
        }
      ]
    },
    {
      "cell_type": "markdown",
      "source": [
        "## Visualize AE outputs"
      ],
      "metadata": {
        "id": "RH6OvRMjUr53"
      }
    },
    {
      "cell_type": "code",
      "source": [
        "desired_model_name = None\n",
        "desired_model_path = os.path.join(\"/content/drive/MyDrive/kaggle\", sorted([ x for x in os.listdir('/content/drive/MyDrive/kaggle') if len(x)>3 and x[-3:]==\".pt\" ])[-1] if desired_model_name is None else desired_model_name)\n",
        "print('Selected model for evaluation: ', desired_model_path)"
      ],
      "metadata": {
        "colab": {
          "base_uri": "https://localhost:8080/"
        },
        "id": "0cXYyb2JVEPb",
        "outputId": "8ca1dbcf-fc60-4351-e51a-617bc20b9afc"
      },
      "execution_count": 26,
      "outputs": [
        {
          "output_type": "stream",
          "name": "stdout",
          "text": [
            "Selected model for evaluation:  /content/drive/MyDrive/kaggle/1677600789.pt\n"
          ]
        }
      ]
    },
    {
      "cell_type": "code",
      "source": [
        "from math import sqrt\n",
        "def show_batch(batch):\n",
        "  sidelen = int(sqrt(len(batch)))+1\n",
        "  f, axarr = plt.subplots(sidelen,sidelen)\n",
        "  print(batch[0].size())\n",
        "  batch = [ np.squeeze(t.detach().numpy() if t.requires_grad else t.numpy() , axis=0) for t in batch ]\n",
        "  for i in range(sidelen):\n",
        "    for j in range(sidelen):\n",
        "      index = (sidelen*i)+j\n",
        "      if index >= len(batch):\n",
        "        break\n",
        "      axarr[i][j].imshow(batch[index])\n",
        "\n",
        "net = VAE()\n",
        "net.load_state_dict(torch.load(desired_model_path))\n",
        "net.eval()\n",
        "\n",
        "for i, batch in enumerate(test_loader):\n",
        "  if i != 0:\n",
        "    break \n",
        "  X, y = batch\n",
        "  reconstruction = net.inference(X)\n",
        "  # show orig\n",
        "  # show reconstruction\n",
        "show_batch(X)\n",
        "show_batch(reconstruction)"
      ],
      "metadata": {
        "colab": {
          "base_uri": "https://localhost:8080/",
          "height": 557
        },
        "id": "yLC6XDFrUzO-",
        "outputId": "2da29e09-ec61-40ae-e5a7-936287460c71"
      },
      "execution_count": 37,
      "outputs": [
        {
          "output_type": "stream",
          "name": "stdout",
          "text": [
            "torch.Size([1, 500, 500])\n",
            "torch.Size([1, 500, 500])\n"
          ]
        },
        {
          "output_type": "display_data",
          "data": {
            "text/plain": [
              "<Figure size 432x288 with 16 Axes>"
            ],
            "image/png": "[encoded data removed]"
          },
          "metadata": {
            "needs_background": "light"
          }
        },
        {
          "output_type": "display_data",
          "data": {
            "text/plain": [
              "<Figure size 432x288 with 16 Axes>"
            ],
            "image/png": "[encoded data removed]"
          },
          "metadata": {
            "needs_background": "light"
          }
        }
      ]
    },
    {
      "cell_type": "code",
      "source": [
        "reconstruction.requires_grad"
      ],
      "metadata": {
        "colab": {
          "base_uri": "https://localhost:8080/"
        },
        "id": "bxB8Yx-ezkNA",
        "outputId": "ece35129-070e-4a4a-de51-8c36bb634d7e"
      },
      "execution_count": 36,
      "outputs": [
        {
          "output_type": "execute_result",
          "data": {
            "text/plain": [
              "True"
            ]
          },
          "metadata": {},
          "execution_count": 36
        }
      ]
    },
    {
      "cell_type": "markdown",
      "source": [
        "## Validate Quantitatively"
      ],
      "metadata": {
        "id": "RMOB72dLUv5o"
      }
    },
    {
      "cell_type": "code",
      "source": [
        "net = Classifier()\n",
        "net.load_state_dict(torch.load(desired_model_path))\n",
        "net.confidence = 0.75\n",
        "net.eval()\n",
        "\n",
        "def evaluate(model, loader):\n",
        "  all_preds = []\n",
        "  all_labels = []\n",
        "  for i, batch in enumerate(loader):\n",
        "    X, y = batch\n",
        "    out = model.inference(X)\n",
        "    all_preds += list(out.detach().squeeze(1).numpy())\n",
        "    all_labels += list(y.numpy())\n",
        "  all_preds = np.array(all_preds)\n",
        "  all_labels = np.array(all_labels)\n",
        "  f_neg, f_pos, t_neg, t_pos = (np.logical_and(all_preds==0, all_labels==1).sum(), \n",
        "                              np.logical_and(all_preds==1, all_labels==0).sum(), \n",
        "                              np.logical_and(all_preds==0, all_labels==0).sum(), \n",
        "                              np.logical_and(all_preds==1, all_labels==1).sum()\n",
        "                              )\n",
        "  n = float(len(all_labels))\n",
        "  print(f\"False negatives: {f_neg} ({100*f_neg/n}% of total)\")\n",
        "  print(f\"False positives: {f_pos} ({100*f_pos/n}% of total)\")\n",
        "  print(f\"True negatives:  {t_neg} ({100*t_neg/n}% of total)\")\n",
        "  print(f\"True positives:  {t_pos} ({100*t_pos/n}% of total)\")"
      ],
      "metadata": {
        "id": "pv0JvM_fVKjK"
      },
      "execution_count": null,
      "outputs": []
    },
    {
      "cell_type": "code",
      "source": [],
      "metadata": {
        "id": "8kIjR30hVKgD"
      },
      "execution_count": null,
      "outputs": []
    },
    {
      "cell_type": "markdown",
      "source": [
        "## TODO:\n",
        "* reduce kernel sizes to make simpler and lower training time/fewer parameters\n",
        "* Try out simple AE, then VAE, then disentangle"
      ],
      "metadata": {
        "id": "4lTbqi87CRlg"
      }
    },
    {
      "cell_type": "code",
      "source": [
        "net = VAE()\n",
        "X, y = next(iter(train_loader))\n",
        "#latent = net.encode(X)\n",
        "#print(f\"Latent shape: {latent.shape}\")\n",
        "out = net(X)\n",
        "out.shape"
      ],
      "metadata": {
        "id": "0_9CHjsuPHKL",
        "colab": {
          "base_uri": "https://localhost:8080/"
        },
        "outputId": "4a28854b-e8c3-4937-8402-02636ed91313"
      },
      "execution_count": 97,
      "outputs": [
        {
          "output_type": "stream",
          "name": "stdout",
          "text": [
            "x shape:  torch.Size([10, 113288])\n",
            "x shape:  torch.Size([10, 8, 119, 119])\n",
            "x shape:  torch.Size([10, 1, 500, 500])\n"
          ]
        },
        {
          "output_type": "execute_result",
          "data": {
            "text/plain": [
              "torch.Size([10, 1, 500, 500])"
            ]
          },
          "metadata": {},
          "execution_count": 97
        }
      ]
    },
    {
      "cell_type": "code",
      "source": [
        "len(ds)"
      ],
      "metadata": {
        "id": "9DsTKpPD81pY",
        "colab": {
          "base_uri": "https://localhost:8080/"
        },
        "outputId": "50a600ce-d994-44f9-993e-d4508e6f1373"
      },
      "execution_count": 68,
      "outputs": [
        {
          "output_type": "execute_result",
          "data": {
            "text/plain": [
              "253"
            ]
          },
          "metadata": {},
          "execution_count": 68
        }
      ]
    },
    {
      "cell_type": "markdown",
      "source": [
        "## Idea\n",
        "* What if I try characterizing the latent space. In word embeddings, there are concept vectors like gender. Vec_man - Vec_woman is parallel to Vec_king - Vec_king. What if I'm able to visualize the distribution in latent space (perhaps via dimensionality reduction) and get the \"concept vector\" of tumor, and perhaps some other features? \n",
        "* And then demonstrate generation based on variations of adding that feature to embeddings. So if v_tumor is = tumor_centroid - non_tumor_centroid in embedding space, do the following. 1. Embed a non-tumor image, 2. Add v_tumor to the embedding, 3. Decode and hopefully get a very similar image but with a tumor. Can also do the whole process in reverse, subtracting the v_tumor"
      ],
      "metadata": {
        "id": "RgXY_hahLh60"
      }
    },
    {
      "cell_type": "code",
      "source": [],
      "metadata": {
        "id": "UpAN-X_hMSw8"
      },
      "execution_count": null,
      "outputs": []
    }
  ]
}