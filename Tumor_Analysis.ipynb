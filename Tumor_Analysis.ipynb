{
  "cells": [
    {
      "cell_type": "markdown",
      "metadata": {
        "id": "view-in-github",
        "colab_type": "text"
      },
      "source": [
        "<a href=\"https://colab.research.google.com/github/rhausman/brain_tumor_analysis/blob/main/Tumor_Analysis.ipynb\" target=\"_parent\"><img src=\"https://colab.research.google.com/assets/colab-badge.svg\" alt=\"Open In Colab\"/></a>"
      ]
    },
    {
      "cell_type": "code",
      "execution_count": 1,
      "metadata": {
        "colab": {
          "base_uri": "https://localhost:8080/"
        },
        "id": "yx5WQsDz_OZk",
        "outputId": "fc4f7ba5-7875-4e03-9cce-708e1a9e3765"
      },
      "outputs": [
        {
          "output_type": "stream",
          "name": "stdout",
          "text": [
            "Drive already mounted at /content/drive; to attempt to forcibly remount, call drive.mount(\"/content/drive\", force_remount=True).\n"
          ]
        }
      ],
      "source": [
        "from google.colab import drive\n",
        "drive.mount('/content/drive')"
      ]
    },
    {
      "cell_type": "markdown",
      "metadata": {
        "id": "e0TyY1y6_XMh"
      },
      "source": [
        "## Imports"
      ]
    },
    {
      "cell_type": "code",
      "execution_count": 1,
      "metadata": {
        "id": "vJ58QIJP_AP3",
        "colab": {
          "base_uri": "https://localhost:8080/"
        },
        "outputId": "39ced74c-f816-4def-feb0-7e1221e3bb90"
      },
      "outputs": [
        {
          "output_type": "execute_result",
          "data": {
            "text/plain": [
              "<torch._C.Generator at 0x7f911a50e450>"
            ]
          },
          "metadata": {},
          "execution_count": 1
        }
      ],
      "source": [
        "import pandas as pd\n",
        "import numpy as np\n",
        "#from sklearn.model_selection import train_test_split \n",
        "\n",
        "import torch\n",
        "from torch.utils.data import Dataset, DataLoader, random_split\n",
        "from torchvision import transforms\n",
        "from torch.utils.data.sampler import SubsetRandomSampler\n",
        "from torch import nn\n",
        "from torch.nn import functional as F\n",
        "import torch.optim as optim\n",
        "from torch._C import NoneType\n",
        "\n",
        "import os\n",
        "import time\n",
        "from copy import deepcopy\n",
        "import skimage \n",
        "from skimage import io\n",
        "from matplotlib import pyplot as plt \n",
        "\n",
        "from PIL import Image\n",
        "from IPython.display import clear_output\n",
        "# set seed for reproducability\n",
        "torch.manual_seed(42)"
      ]
    },
    {
      "cell_type": "markdown",
      "metadata": {
        "id": "CmW-i0D1_euu"
      },
      "source": [
        "## Get the data"
      ]
    },
    {
      "cell_type": "code",
      "execution_count": 2,
      "metadata": {
        "colab": {
          "base_uri": "https://localhost:8080/",
          "height": 89
        },
        "id": "m2wBI6n-_d9v",
        "outputId": "25c1b583-cf07-46c3-f91f-4e7bfbb57547"
      },
      "outputs": [
        {
          "output_type": "stream",
          "name": "stdout",
          "text": [
            "/content/drive/MyDrive/kaggle\n",
            "brain-mri-images-for-brain-tumor-detection.zip: Skipping, found more recently modified local copy (use --force to force download)\n"
          ]
        },
        {
          "output_type": "execute_result",
          "data": {
            "text/plain": [
              "' MORE DATA OPTIONS:\\n!kaggle competitions download -c hpa-single-cell-image-classification # whole cell image thing\\n\\n!kaggle datasets download -d dschettler8845/human-protein-atlas-yellow-cell-tile-dataset\\n'"
            ],
            "application/vnd.google.colaboratory.intrinsic+json": {
              "type": "string"
            }
          },
          "metadata": {},
          "execution_count": 2
        }
      ],
      "source": [
        "os.environ['KAGGLE_CONFIG_DIR'] = \"/content/drive/MyDrive/kaggle\"\n",
        "%cd /content/drive/MyDrive/kaggle/\n",
        "!kaggle datasets download -d navoneel/brain-mri-images-for-brain-tumor-detection --unzip\n",
        "\"\"\" MORE DATA OPTIONS:\n",
        "!kaggle competitions download -c hpa-single-cell-image-classification # whole cell image thing\n",
        "\n",
        "!kaggle datasets download -d dschettler8845/human-protein-atlas-yellow-cell-tile-dataset\n",
        "\"\"\""
      ]
    },
    {
      "cell_type": "code",
      "execution_count": 3,
      "metadata": {
        "colab": {
          "base_uri": "https://localhost:8080/"
        },
        "id": "7UHUMm7eIJ-H",
        "outputId": "60713a6a-d64e-4026-849b-b69c5db4d60b"
      },
      "outputs": [
        {
          "output_type": "execute_result",
          "data": {
            "text/plain": [
              "['kaggle.json',\n",
              " 'human-protein-atlas-yellow-cell-tile-dataset.zip',\n",
              " 'brain_tumor_dataset',\n",
              " 'no',\n",
              " 'yes',\n",
              " 'brain-mri-images-for-brain-tumor-detection.zip',\n",
              " '1676335239.pt',\n",
              " '1676336668.pt',\n",
              " '1676337773.pt',\n",
              " '1676339293.pt',\n",
              " '1676341225.pt',\n",
              " '1676341575.pt',\n",
              " '1676342570.pt',\n",
              " '1676343146.pt',\n",
              " '1676354204.pt',\n",
              " '1677558439.pt',\n",
              " '1677600789.pt',\n",
              " '1677601472.pt',\n",
              " '1677603110.pt',\n",
              " '1677611569.pt',\n",
              " '1677613092.pt']"
            ]
          },
          "metadata": {},
          "execution_count": 3
        }
      ],
      "source": [
        "os.listdir()"
      ]
    },
    {
      "cell_type": "markdown",
      "metadata": {
        "id": "GwQVNBJKACJt"
      },
      "source": [
        "## Notes\n",
        "* Remove InvertColor transforms\n",
        "* Try using PCA to visualize the latent space. See if it separates the classes."
      ]
    },
    {
      "cell_type": "markdown",
      "metadata": {
        "id": "AjO6ZutCDE_4"
      },
      "source": [
        "\\## Set up Dataset\n",
        "\n",
        "Notes:\n",
        "* Using a `RandomInvert()` transform is not intuitive because color-inverted images don't appear in the train or validation set, but it's desireable because: 1. Emperically, it SIGNIFICANTLY reduced overfitting in my case, and 2. It's possible that some computer systems that process brain scans could invert the color, and concievably a system using my model could recieve a color-inverted image."
      ]
    },
    {
      "cell_type": "code",
      "execution_count": 4,
      "metadata": {
        "id": "DxCOeBevBnkb"
      },
      "outputs": [],
      "source": [
        "DEFAULT_RES = 500\n",
        "class MyDataSet(Dataset):\n",
        "  def __init__(self, pos_dir: str, neg_dir: str, transform=None, res:int=DEFAULT_RES):\n",
        "    self.pos_dir = pos_dir\n",
        "    self.neg_dir = neg_dir\n",
        "    self.transform = transform\n",
        "    self.pos_filenames = [ os.path.join(pos_dir, x) for x in os.listdir(pos_dir)]\n",
        "    self.neg_filenames = [ os.path.join(neg_dir, x) for x in os.listdir(neg_dir)]\n",
        "\n",
        "    if not self.transform: # kind of need one. \n",
        "      self.transform_list = [\n",
        "          transforms.Resize([res, res]), # maybe should make this bigger\n",
        "          transforms.RandomHorizontalFlip(),\n",
        "          transforms.RandomVerticalFlip(),\n",
        "          #transforms.RandomInvert(),\n",
        "          transforms.ToTensor(),\n",
        "          #transforms.Normalize(mean=[0.485, 0.456, 0.406], std=[0.229, 0.224, 0.225])\n",
        "          ]\n",
        "      self.transform = transforms.Compose(self.transform_list)\n",
        "  \n",
        "  def get_mean_and_std(self):\n",
        "    loader = DataLoader(self, batch_size=10, num_workers=1, shuffle=False)\n",
        "    mean = 0.\n",
        "    std = 0.\n",
        "    nb_samples = 0.\n",
        "    for _data in loader:\n",
        "        data = _data[0]\n",
        "        batch_samples = data.size(0)\n",
        "        data = data.view(batch_samples, data.size(1), -1)\n",
        "        mean += data.mean(2).sum(0)\n",
        "        std += data.std(2).sum(0)\n",
        "        nb_samples += batch_samples\n",
        "    mean /= nb_samples\n",
        "    std /= nb_samples\n",
        "    return mean, std\n",
        "  \n",
        "  def set_up_normalization(self, mean, std):\n",
        "    self.transform_list.append(transforms.Normalize(mean=(mean), std=(std) ))\n",
        "    self.transform = transforms.Compose(self.transform_list)\n",
        "    print(\"Normalization added to transform\")\n",
        "    \n",
        "\n",
        "  def __len__(self):\n",
        "    return len(self.pos_filenames) + len(self.neg_filenames)\n",
        "\n",
        "  def __getitem__(self, x):\n",
        "    #print(\"Index: \", x)\n",
        "    img = None\n",
        "    tumor = None\n",
        "    if x < len(self.neg_filenames): # return a negative\n",
        "      img = self.get_single_image(self.neg_filenames[x])\n",
        "      tumor = 0\n",
        "    else: # return a positive\n",
        "      img = self.get_single_image(self.pos_filenames[x%len(self.neg_filenames)])\n",
        "      tumor = 1\n",
        "    img = img.convert('L')\n",
        "    if self.transform:\n",
        "      #print(\"transforming. shape before\", img.size)\n",
        "      img = self.transform(img)\n",
        "      #print(\"shape after\", img.size)\n",
        "    if img is None:\n",
        "      print(\"Problem: \", x%len(self.neg_filenames), self.pos_filenames[x%len(self.neg_filenames)])\n",
        "    #print(img.size())\n",
        "    return img, tumor\n",
        "\n",
        "  # filename should be absolute path\n",
        "  def get_single_image(self, filename):\n",
        "    img = Image.open(filename)#io.imread(filename)\n",
        "    if img is None:\n",
        "      print(\"YO: \", filename)\n",
        "    return img"
      ]
    },
    {
      "cell_type": "markdown",
      "metadata": {
        "id": "nsEvokzKIImo"
      },
      "source": [
        "## View Samples to see if it's working"
      ]
    },
    {
      "cell_type": "code",
      "execution_count": 6,
      "metadata": {
        "colab": {
          "base_uri": "https://localhost:8080/",
          "height": 305
        },
        "id": "yii6pmm2IFal",
        "outputId": "9cc0aec5-8dc9-44ad-8afe-6882aaf55110"
      },
      "outputs": [
        {
          "output_type": "stream",
          "name": "stdout",
          "text": [
            "Normalization added to transform\n",
            "torch.Size([1, 500, 500])\n"
          ]
        },
        {
          "output_type": "display_data",
          "data": {
            "text/plain": [
              "<Figure size 432x288 with 4 Axes>"
            ],
            "image/png": "[encoded data removed]"
          },
          "metadata": {
            "needs_background": "light"
          }
        }
      ],
      "source": [
        "def show_batch(batch):\n",
        "  batch = batch[0]\n",
        "  f, axarr = plt.subplots(2,2)\n",
        "  print(batch[0].size())\n",
        "  batch = [ np.squeeze(t.numpy(), axis=0) for t in batch ]\n",
        "  axarr[0][0].imshow(batch[0])\n",
        "  axarr[0][1].imshow(batch[1])\n",
        "  axarr[1][0].imshow(batch[2])\n",
        "  axarr[1][1].imshow(batch[3])\n",
        "  #print(batch, type(batch))\n",
        "\n",
        "ds = MyDataSet(pos_dir = \"/content/drive/MyDrive/kaggle/brain_tumor_dataset/yes\", neg_dir=\"/content/drive/MyDrive/kaggle/brain_tumor_dataset/no\")\n",
        "mean, std = ds.get_mean_and_std() # set up normalization with the same mean and td overall for each\n",
        "ds.set_up_normalization(mean, std)\n",
        "dl = DataLoader(ds, batch_size=4, shuffle=True, num_workers=0) # for now no extra workers\n",
        "\n",
        "for i, batch in enumerate(dl):\n",
        "  if i ==4:\n",
        "    show_batch(batch)\n",
        "    break"
      ]
    },
    {
      "cell_type": "markdown",
      "metadata": {
        "id": "frx4SoTAvOgB"
      },
      "source": [
        "# Classifier"
      ]
    },
    {
      "cell_type": "markdown",
      "metadata": {
        "id": "iLEa6PokUahT"
      },
      "source": [
        "## Model Definition - Classifier\n",
        "* Idea: VAE with one disentangled latent variable for tumor_presence (0 for no tumor, 1 for tumor)\n",
        "* This way it's both a predictor and example generator. \n",
        "1. to predict: embed an image and look at the latent variable value\n",
        "2. To generate: generate from point in latent space, control the latent variable as desired.\n",
        "* base on: https://ieeexplore.ieee.org/document/9291992 or another paper"
      ]
    },
    {
      "cell_type": "code",
      "execution_count": 5,
      "metadata": {
        "id": "rBAmSmhy_IOw"
      },
      "outputs": [],
      "source": [
        "# first I'll do a classifier\n",
        "class Classifier(nn.Module):\n",
        "  def __init__(self, res:int =DEFAULT_RES, confidence=0.75):\n",
        "    super(Classifier, self).__init__()\n",
        "    self.res = res\n",
        "    self.confidence = confidence\n",
        "    self.layers = []\n",
        "    s = (1, self.res, self.res)\n",
        "\n",
        "    self.layers.append(nn.Conv2d(1, 4, 5))\n",
        "    s = 4, s[1] - 4, s[2]-4 # stride is 2 i believe\n",
        "    self.layers.append(nn.MaxPool2d((2,2)))\n",
        "    s = s[0], s[1]/2, s[2]/2\n",
        "    self.layers.append(nn.Conv2d(4, 8, 10))\n",
        "    s = 8, s[1]-9, s[2] - 9\n",
        "    self.layers.append(nn.MaxPool2d(2))\n",
        "    s = s[0], (s[1]-1)/2, (s[2]-1)/2\n",
        "    self.layers.append(nn.Flatten())\n",
        "    s = s[0]*s[1]*s[2], None\n",
        "    self.layers.append(nn.Linear( int(s[0]), 120))\n",
        "    #self.layers.append(nn.ReLU())\n",
        "    self.layers.append(nn.Linear(120, 60) )\n",
        "    #self.layers.append(nn.ReLU())\n",
        "    self.layers.append(nn.Linear(60,20))\n",
        "    #self.layers.append(nn.ReLU())\n",
        "    self.layers.append(nn.Linear(20, 1))\n",
        "    self.layers.append(nn.Sigmoid())\n",
        "    #self.layers = [self.conv1, self.pool1, self.conv2, self.pool2, self.flatten, self.l1, self.l2, self.l3, self.l4, self.sigmoid]\n",
        "    # dropout?\n",
        "    self.seq = nn.Sequential(*self.layers)\n",
        "\n",
        "  def forward(self, x):\n",
        "    #print(\"input shape: \", x.shape)\n",
        "    #for i, layer in enumerate(self.layers):\n",
        "    #  x = layer(x) #F.relu(layer(x))\n",
        "      #print(f\"{i} shape: {x.shape}\")\n",
        "    x = self.seq(x)\n",
        "    return x # get in batch format\n",
        "  \n",
        "  def inference(self, x):\n",
        "    out = self.forward(x)\n",
        "    out = out > self.confidence\n",
        "    return out"
      ]
    },
    {
      "cell_type": "markdown",
      "metadata": {
        "id": "RwNRo_lo6H2D"
      },
      "source": [
        "## Training"
      ]
    },
    {
      "cell_type": "code",
      "execution_count": 9,
      "metadata": {
        "colab": {
          "base_uri": "https://localhost:8080/"
        },
        "id": "F28Ntxj_ceay",
        "outputId": "b5e96ee8-d00f-4932-c936-380f5552a308"
      },
      "outputs": [
        {
          "output_type": "stream",
          "name": "stdout",
          "text": [
            "Normalization added to transform\n",
            "Train set: 203, Test set: 50\n",
            "Training model at  1677613872.pt\n"
          ]
        }
      ],
      "source": [
        "# constants\n",
        "epochs = 40\n",
        "\n",
        "# data\n",
        "ds = MyDataSet(pos_dir = \"/content/drive/MyDrive/kaggle/brain_tumor_dataset/yes\", neg_dir=\"/content/drive/MyDrive/kaggle/brain_tumor_dataset/no\")\n",
        "mean, std = ds.get_mean_and_std() # set up normalization with the same mean and td overall for each\n",
        "ds.set_up_normalization(mean, std)\n",
        "train_set, test_set = random_split(ds, [0.8, 0.2], generator=torch.Generator().manual_seed(42)) # manual seed for reproducible result right now\n",
        "\n",
        "print(f\"Train set: {len(train_set)}, Test set: {len(test_set)}\")\n",
        "train_loader = DataLoader(train_set, batch_size=24, shuffle=True, num_workers=2) # for now no extra workers\n",
        "test_loader = DataLoader(test_set, batch_size=24, shuffle = False, num_workers=1)\n",
        "\n",
        "# save info\n",
        "model_save_name = str(int(time.time())) + \".pt\" # unique name\n",
        "save_path = f\"/content/drive/MyDrive/kaggle/{model_save_name}\"\n",
        "print(\"Training model at \", model_save_name)"
      ]
    },
    {
      "cell_type": "code",
      "execution_count": 10,
      "metadata": {
        "colab": {
          "base_uri": "https://localhost:8080/",
          "height": 673
        },
        "id": "6htuQSQCeF37",
        "outputId": "5f680a3e-45dd-4441-e54b-135fe4dd4ce9"
      },
      "outputs": [
        {
          "output_type": "stream",
          "name": "stdout",
          "text": [
            "Epoch 18 train loss: 1.361143060028553\n",
            " test loss: 1.5727950257714838\n"
          ]
        },
        {
          "output_type": "display_data",
          "data": {
            "text/plain": [
              "<Figure size 432x288 with 1 Axes>"
            ],
            "image/png": "[encoded data removed]"
          },
          "metadata": {
            "needs_background": "light"
          }
        },
        {
          "output_type": "error",
          "ename": "KeyboardInterrupt",
          "evalue": "ignored",
          "traceback": [
            "\u001b[0;31m---------------------------------------------------------------------------\u001b[0m",
            "\u001b[0;31mKeyboardInterrupt\u001b[0m                         Traceback (most recent call last)",
            "\u001b[0;32m<ipython-input-10-e973a7cde3d6>\u001b[0m in \u001b[0;36m<module>\u001b[0;34m\u001b[0m\n\u001b[1;32m     14\u001b[0m     \u001b[0moutput\u001b[0m \u001b[0;34m=\u001b[0m \u001b[0mtorch\u001b[0m\u001b[0;34m.\u001b[0m\u001b[0msqueeze\u001b[0m\u001b[0;34m(\u001b[0m\u001b[0moutput\u001b[0m\u001b[0;34m,\u001b[0m \u001b[0;36m1\u001b[0m\u001b[0;34m)\u001b[0m\u001b[0;34m\u001b[0m\u001b[0;34m\u001b[0m\u001b[0m\n\u001b[1;32m     15\u001b[0m     \u001b[0mloss\u001b[0m \u001b[0;34m=\u001b[0m \u001b[0mloss_fxn\u001b[0m\u001b[0;34m(\u001b[0m\u001b[0moutput\u001b[0m\u001b[0;34m,\u001b[0m \u001b[0my\u001b[0m\u001b[0;34m.\u001b[0m\u001b[0mfloat\u001b[0m\u001b[0;34m(\u001b[0m\u001b[0;34m)\u001b[0m\u001b[0;34m)\u001b[0m\u001b[0;34m\u001b[0m\u001b[0;34m\u001b[0m\u001b[0m\n\u001b[0;32m---> 16\u001b[0;31m     \u001b[0mloss\u001b[0m\u001b[0;34m.\u001b[0m\u001b[0mbackward\u001b[0m\u001b[0;34m(\u001b[0m\u001b[0;34m)\u001b[0m \u001b[0;31m# retain_graph=True for multi losses?\u001b[0m\u001b[0;34m\u001b[0m\u001b[0;34m\u001b[0m\u001b[0m\n\u001b[0m\u001b[1;32m     17\u001b[0m     \u001b[0moptimizer\u001b[0m\u001b[0;34m.\u001b[0m\u001b[0mstep\u001b[0m\u001b[0;34m(\u001b[0m\u001b[0;34m)\u001b[0m\u001b[0;34m\u001b[0m\u001b[0;34m\u001b[0m\u001b[0m\n\u001b[1;32m     18\u001b[0m \u001b[0;34m\u001b[0m\u001b[0m\n",
            "\u001b[0;32m/usr/local/lib/python3.8/dist-packages/torch/_tensor.py\u001b[0m in \u001b[0;36mbackward\u001b[0;34m(self, gradient, retain_graph, create_graph, inputs)\u001b[0m\n\u001b[1;32m    486\u001b[0m                 \u001b[0minputs\u001b[0m\u001b[0;34m=\u001b[0m\u001b[0minputs\u001b[0m\u001b[0;34m,\u001b[0m\u001b[0;34m\u001b[0m\u001b[0;34m\u001b[0m\u001b[0m\n\u001b[1;32m    487\u001b[0m             )\n\u001b[0;32m--> 488\u001b[0;31m         torch.autograd.backward(\n\u001b[0m\u001b[1;32m    489\u001b[0m             \u001b[0mself\u001b[0m\u001b[0;34m,\u001b[0m \u001b[0mgradient\u001b[0m\u001b[0;34m,\u001b[0m \u001b[0mretain_graph\u001b[0m\u001b[0;34m,\u001b[0m \u001b[0mcreate_graph\u001b[0m\u001b[0;34m,\u001b[0m \u001b[0minputs\u001b[0m\u001b[0;34m=\u001b[0m\u001b[0minputs\u001b[0m\u001b[0;34m\u001b[0m\u001b[0;34m\u001b[0m\u001b[0m\n\u001b[1;32m    490\u001b[0m         )\n",
            "\u001b[0;32m/usr/local/lib/python3.8/dist-packages/torch/autograd/__init__.py\u001b[0m in \u001b[0;36mbackward\u001b[0;34m(tensors, grad_tensors, retain_graph, create_graph, grad_variables, inputs)\u001b[0m\n\u001b[1;32m    195\u001b[0m     \u001b[0;31m# some Python versions print out the first line of a multi-line function\u001b[0m\u001b[0;34m\u001b[0m\u001b[0;34m\u001b[0m\u001b[0;34m\u001b[0m\u001b[0m\n\u001b[1;32m    196\u001b[0m     \u001b[0;31m# calls in the traceback and some print out the last line\u001b[0m\u001b[0;34m\u001b[0m\u001b[0;34m\u001b[0m\u001b[0;34m\u001b[0m\u001b[0m\n\u001b[0;32m--> 197\u001b[0;31m     Variable._execution_engine.run_backward(  # Calls into the C++ engine to run the backward pass\n\u001b[0m\u001b[1;32m    198\u001b[0m         \u001b[0mtensors\u001b[0m\u001b[0;34m,\u001b[0m \u001b[0mgrad_tensors_\u001b[0m\u001b[0;34m,\u001b[0m \u001b[0mretain_graph\u001b[0m\u001b[0;34m,\u001b[0m \u001b[0mcreate_graph\u001b[0m\u001b[0;34m,\u001b[0m \u001b[0minputs\u001b[0m\u001b[0;34m,\u001b[0m\u001b[0;34m\u001b[0m\u001b[0;34m\u001b[0m\u001b[0m\n\u001b[1;32m    199\u001b[0m         allow_unreachable=True, accumulate_grad=True)  # Calls into the C++ engine to run the backward pass\n",
            "\u001b[0;31mKeyboardInterrupt\u001b[0m: "
          ]
        }
      ],
      "source": [
        "net = Classifier()\n",
        "loss_fxn = nn.BCELoss()\n",
        "optimizer = optim.SGD(net.parameters(), lr=0.001, momentum=0.9, weight_decay=1e-5) # todo try adding l2 regularization with: weight_decay=1e-5\n",
        "\n",
        "train_losses = []\n",
        "test_losses = []\n",
        "for epoch in range(epochs):\n",
        "  net.train()\n",
        "  running_loss = 0.\n",
        "  for i, batch in enumerate(train_loader):\n",
        "    X, y = batch\n",
        "    optimizer.zero_grad()\n",
        "    output = net(X)\n",
        "    output = torch.squeeze(output, 1)\n",
        "    loss = loss_fxn(output, y.float())\n",
        "    loss.backward() # retain_graph=True for multi losses?\n",
        "    optimizer.step()\n",
        "\n",
        "    #print(f\"Output: {output}, labels: {y}, loss: {loss.item()}\")\n",
        "    #stats\n",
        "    running_loss += loss.item()\n",
        "  # save model each epoch\n",
        "  torch.save(net.state_dict(), save_path)\n",
        "  train_losses.append(running_loss)\n",
        "  # see the validation loss\n",
        "  net.eval()\n",
        "  with torch.no_grad():\n",
        "    test_loss = 0.\n",
        "    for i, batch in enumerate(test_loader):\n",
        "      X, y = batch \n",
        "      output = net(X)\n",
        "      output = torch.squeeze(output, 1)\n",
        "      loss = loss_fxn(output, y.float())\n",
        "      test_loss += loss.item()\n",
        "    test_losses.append(test_loss)\n",
        "    \n",
        "  # Display output!\n",
        "  clear_output(wait=True)\n",
        "  print(f\"Epoch {epoch} train loss: {train_losses[-1]}\\n test loss: {test_losses[-1]}\")\n",
        "  plt.plot(train_losses)\n",
        "  plt.plot(test_losses)\n",
        "  plt.show()\n"
      ]
    },
    {
      "cell_type": "markdown",
      "metadata": {
        "id": "Id0Rj_hJY1YJ"
      },
      "source": [
        "## Validation \n",
        "* Validate on train and validation data to see if the issue is overfitting or mere underperformance/underfitting\n",
        "\n",
        "Good models so far:\n",
        "* 1676343146.pt\n",
        "* 1676354204.pt (fantastic. 40 epochs. I recently discoverd bug in training code)\n",
        "* 1677601472.pt (good performance, but somewhat overfit. Inversion was not used for this model)\n",
        "* 1677603110.pt (This didn't do so great, though inversion was used)"
      ]
    },
    {
      "cell_type": "code",
      "execution_count": 10,
      "metadata": {
        "colab": {
          "base_uri": "https://localhost:8080/"
        },
        "id": "OaexH9QNNvSD",
        "outputId": "47f36175-5d1c-45be-d978-efe1802c9b2d"
      },
      "outputs": [
        {
          "output_type": "stream",
          "name": "stdout",
          "text": [
            "Selected model for evaluation:  /content/drive/MyDrive/kaggle/1677613092.pt\n"
          ]
        }
      ],
      "source": [
        "desired_model_name = None #'1676354204.pt'\n",
        "desired_model_path = os.path.join(\"/content/drive/MyDrive/kaggle\", sorted([ x for x in os.listdir() if x[-3:]==\".pt\" ])[-1] if desired_model_name is None else desired_model_name)\n",
        "print('Selected model for evaluation: ', desired_model_path)"
      ]
    },
    {
      "cell_type": "code",
      "execution_count": 11,
      "metadata": {
        "id": "gZRfSYvw61SI"
      },
      "outputs": [],
      "source": [
        "net = Classifier()\n",
        "net.load_state_dict(torch.load(desired_model_path))\n",
        "net.confidence = 0.75\n",
        "net.eval()\n",
        "\n",
        "def evaluate(model, loader):\n",
        "  all_preds = []\n",
        "  all_labels = []\n",
        "  for i, batch in enumerate(loader):\n",
        "    X, y = batch\n",
        "    out = model.inference(X)\n",
        "    all_preds += list(out.detach().squeeze(1).numpy())\n",
        "    all_labels += list(y.numpy())\n",
        "  all_preds = np.array(all_preds)\n",
        "  all_labels = np.array(all_labels)\n",
        "  f_neg, f_pos, t_neg, t_pos = (np.logical_and(all_preds==0, all_labels==1).sum(), \n",
        "                              np.logical_and(all_preds==1, all_labels==0).sum(), \n",
        "                              np.logical_and(all_preds==0, all_labels==0).sum(), \n",
        "                              np.logical_and(all_preds==1, all_labels==1).sum()\n",
        "                              )\n",
        "  n = float(len(all_labels))\n",
        "  print(f\"False negatives: {f_neg} ({100*f_neg/n}% of total)\")\n",
        "  print(f\"False positives: {f_pos} ({100*f_pos/n}% of total)\")\n",
        "  print(f\"True negatives:  {t_neg} ({100*t_neg/n}% of total)\")\n",
        "  print(f\"True positives:  {t_pos} ({100*t_pos/n}% of total)\")"
      ]
    },
    {
      "cell_type": "code",
      "execution_count": 12,
      "metadata": {
        "colab": {
          "base_uri": "https://localhost:8080/"
        },
        "id": "G2jmRPhnkYEd",
        "outputId": "06156464-d92d-4f19-c91e-aef4d1f548b3"
      },
      "outputs": [
        {
          "output_type": "stream",
          "name": "stdout",
          "text": [
            "False negatives: 9 (18.0% of total)\n",
            "False positives: 4 (8.0% of total)\n",
            "True negatives:  12 (24.0% of total)\n",
            "True positives:  25 (50.0% of total)\n"
          ]
        }
      ],
      "source": [
        "evaluate(net, test_loader)"
      ]
    },
    {
      "cell_type": "code",
      "execution_count": 13,
      "metadata": {
        "colab": {
          "base_uri": "https://localhost:8080/"
        },
        "id": "N24i9IYe2B5g",
        "outputId": "11e2a71e-3429-4ae8-8182-34429bb42b3b"
      },
      "outputs": [
        {
          "output_type": "stream",
          "name": "stdout",
          "text": [
            "False negatives: 15 (7.389162561576355% of total)\n",
            "False positives: 2 (0.9852216748768473% of total)\n",
            "True negatives:  80 (39.40886699507389% of total)\n",
            "True positives:  106 (52.216748768472904% of total)\n"
          ]
        }
      ],
      "source": [
        "evaluate(net, train_loader)"
      ]
    },
    {
      "cell_type": "markdown",
      "metadata": {
        "id": "eZqxp9FlvUCf"
      },
      "source": [
        "# AutoEncoder"
      ]
    },
    {
      "cell_type": "markdown",
      "metadata": {
        "id": "NcgyXP9l6d6b"
      },
      "source": [
        "## AutoEncoder Model\n",
        "* Create a model that can reconstruct based on point in latent space\n",
        "* Disentangle a dimension of the latent space for tumor presence\n",
        "* Try to disentangle other dimensions in an unsupervised way"
      ]
    },
    {
      "cell_type": "code",
      "execution_count": null,
      "metadata": {
        "id": "nNQDBc-D6cB2"
      },
      "outputs": [],
      "source": [
        "# first I'll do a classifier\n",
        "class VAE(nn.Module):\n",
        "  def __init__(self, res:int =DEFAULT_RES, confidence=0.75):\n",
        "    super(VAE, self).__init__()\n",
        "    self.res = res\n",
        "    self.reshape = 1, 4, 8 # channels for managing conv layers\n",
        "    self.confidence = confidence\n",
        "    self.encoder_conv, self.encoder_linear = [], []\n",
        "    self.decoder_linear, self.decoder_conv = [], []\n",
        "\n",
        "    s = (1, self.res, self.res)\n",
        "\n",
        "    self.encoder_conv.append(nn.Conv2d(1, 4, 5))\n",
        "    s = 4, s[1] - 4, s[2]-4 # stride is 2 i believe\n",
        "    self.encoder_conv.append(nn.MaxPool2d((2,2)))\n",
        "    s = s[0], s[1]/2, s[2]/2\n",
        "    self.encoder_conv.append(nn.Conv2d(4, 8, 10))\n",
        "    s = 8, s[1]-9, s[2] - 9\n",
        "    self.encoder_conv.append(nn.MaxPool2d(2))\n",
        "    s = s[0], (s[1]-1)/2, (s[2]-1)/2\n",
        "    self.flatten = nn.Flatten()\n",
        "    s = s[0]*s[1]*s[2], None\n",
        "    self.encoder_linear.append(nn.Linear( int(s[0]), 120))\n",
        "    self.encoder_linear.append(nn.Linear(120, 60) )\n",
        "    \n",
        "    self.encoder_conv = nn.Sequential(*self.encoder_conv)\n",
        "    self.encoder_linear = nn.Sequential(*self.encoder_linear)\n",
        "\n",
        "    def app(l):\n",
        "      self.decoder_linear.append(l)\n",
        "    app(nn.Linear(60,120))\n",
        "    app(nn.Linear(120, int(s[0])) )\n",
        "    self.decoder_linear = nn.Sequential(*self.decoder_linear)\n",
        "\n",
        "    def app(l):\n",
        "      self.decoder_conv.append(l)\n",
        "    app(nn.Upsample(size=(121,121))) #scale_factor=1.1)) #size=() ))\n",
        "    app(nn.ConvTranspose2d(8, 4, 10, padding=2, output_padding=1, stride=2))\n",
        "    app(nn.Upsample(size=(250,250)))\n",
        "    app(nn.ConvTranspose2d(4,1, 5, padding=2, output_padding=1, stride=2))\n",
        "    \"\"\"\n",
        "    app(nn.ConvTranspose2d(8, 6, 10))\n",
        "    app(nn.ConvTranspose2d(6, 4,  8))\n",
        "    app(nn.ConvTranspose2d(4, 1,  8)) #padding=2, output_padding=1, stride=2))\n",
        "    app(nn.ConvTranspose2d(1, 1,  5, padding=2, output_padding=1, stride=2))\n",
        "    \"\"\"\n",
        "    self.decoder_conv = nn.Sequential(*self.decoder_conv)\n",
        "    # todo: add batch norm!\n",
        "    # todo add ReLU or sigmoid, or without it.\n",
        "    # need to de-normalize output to visualize\n",
        "    #self.layers = [self.conv1, self.pool1, self.conv2, self.pool2, self.flatten, self.l1, self.l2, self.l3, self.l4, self.sigmoid]\n",
        "    # dropout?\n",
        "    # self.seq = nn.Sequential(*self.layers)\n",
        "\n",
        "  def forward(self, x):\n",
        "    latent = self.encode(x)\n",
        "    #reconstruction = self.decode(x)\n",
        "    reconstruction = self.decode(latent)\n",
        "    return torch.sigmoid(reconstruction) # activation fxn. Keep in mind we'll have to transform since input was normalized, gotta transform output to compensate\n",
        "  \n",
        "  def encode(self, x):\n",
        "    x = self.encoder_conv(x)\n",
        "    x = self.flatten(x)\n",
        "    return self.encoder_linear(x)\n",
        "  \n",
        "  def decode(self, x):\n",
        "    #x = torch.relu(self.decoder[0](x))\n",
        "    #x = torch.relu(self.decoder[1](x))\n",
        "    x = self.decoder_linear(x)\n",
        "    x = x.view(x.shape[0], 8, 119, 119) # reshape\n",
        "    x = torch.relu(self.decoder_conv(x))\n",
        "    #print(\"x shape: \", x.shape)\n",
        "    # todo decode linear\n",
        "    # todo activation?\n",
        "    return x\n",
        "\n",
        "  def inference(self, x, mean=0, std=1):\n",
        "    out = self.forward(x)\n",
        "    return out.mul(std).add(mean)\n",
        "    return out"
      ]
    },
    {
      "cell_type": "markdown",
      "metadata": {
        "id": "AtisSTrxQkrt"
      },
      "source": [
        "## Train Autoencoder"
      ]
    },
    {
      "cell_type": "code",
      "execution_count": null,
      "metadata": {
        "colab": {
          "base_uri": "https://localhost:8080/"
        },
        "id": "p8_aNpeIQnnu",
        "outputId": "8511f4c5-41db-40a0-a317-57a666174187"
      },
      "outputs": [
        {
          "name": "stdout",
          "output_type": "stream",
          "text": [
            "Normalization added to transform\n",
            "Train set: 203, Test set: 50\n",
            "Training model at  1677600789.pt\n"
          ]
        }
      ],
      "source": [
        "# constants\n",
        "epochs = 1\n",
        "\n",
        "# data\n",
        "ds = MyDataSet(pos_dir = \"/content/drive/MyDrive/kaggle/brain_tumor_dataset/yes\", neg_dir=\"/content/drive/MyDrive/kaggle/brain_tumor_dataset/no\")\n",
        "mean, std = ds.get_mean_and_std() # set up normalization with the same mean and td overall for each\n",
        "ds.set_up_normalization(mean, std)\n",
        "train_set, test_set = random_split(ds, [0.8, 0.2], generator=torch.Generator().manual_seed(42)) # manual seed for reproducible result right now\n",
        "\n",
        "print(f\"Train set: {len(train_set)}, Test set: {len(test_set)}\")\n",
        "train_loader = DataLoader(train_set, batch_size=10, shuffle=True, num_workers=2) # for now no extra workers\n",
        "test_loader = DataLoader(test_set, batch_size=10, shuffle = False, num_workers=0)\n",
        "\n",
        "# save info\n",
        "model_save_name = str(int(time.time())) + \".pt\" # unique name\n",
        "save_path = f\"/content/drive/MyDrive/kaggle/{model_save_name}\"\n",
        "print(\"Training model at \", model_save_name)"
      ]
    },
    {
      "cell_type": "code",
      "execution_count": null,
      "metadata": {
        "colab": {
          "base_uri": "https://localhost:8080/"
        },
        "id": "_ydsiz30RDZ2",
        "outputId": "9eaef729-8df4-42f1-df20-7a2984ff877d"
      },
      "outputs": [
        {
          "name": "stdout",
          "output_type": "stream",
          "text": [
            "Epoch 0 loss: 31.045974612236023 ... Avg per sample: 0.12271136210369969\n"
          ]
        }
      ],
      "source": [
        "net = VAE()\n",
        "loss_fxn = nn.MSELoss()\n",
        "optimizer = optim.SGD(net.parameters(), lr=0.001, momentum=0.9)\n",
        "\n",
        "for epoch in range(epochs):\n",
        "  running_loss = 0.\n",
        "  prev_loss = 0.\n",
        "  for i, batch in enumerate(train_loader):\n",
        "    X, y = batch\n",
        "    optimizer.zero_grad()\n",
        "    output = net(X)\n",
        "    output = torch.squeeze(output, 1)\n",
        "    loss = loss_fxn(output, torch.squeeze(X))\n",
        "    loss.backward() # retain_graph=True for multi losses?\n",
        "    optimizer.step()\n",
        "    #print(f\"Output: {output}, labels: {y}, loss: {loss.item()}\")\n",
        "    #stats\n",
        "    running_loss += loss.item()\n",
        "  # save model each epoch\n",
        "  torch.save(net.state_dict(), save_path)\n",
        "    \n",
        "  print(f\"Epoch {epoch} loss: {running_loss} ... Avg per sample: {running_loss/len(ds)}\")\n"
      ]
    },
    {
      "cell_type": "markdown",
      "metadata": {
        "id": "RH6OvRMjUr53"
      },
      "source": [
        "## Visualize AE outputs"
      ]
    },
    {
      "cell_type": "code",
      "execution_count": null,
      "metadata": {
        "colab": {
          "base_uri": "https://localhost:8080/"
        },
        "id": "0cXYyb2JVEPb",
        "outputId": "8ca1dbcf-fc60-4351-e51a-617bc20b9afc"
      },
      "outputs": [
        {
          "name": "stdout",
          "output_type": "stream",
          "text": [
            "Selected model for evaluation:  /content/drive/MyDrive/kaggle/1677600789.pt\n"
          ]
        }
      ],
      "source": [
        "desired_model_name = None\n",
        "desired_model_path = os.path.join(\"/content/drive/MyDrive/kaggle\", sorted([ x for x in os.listdir('/content/drive/MyDrive/kaggle') if len(x)>3 and x[-3:]==\".pt\" ])[-1] if desired_model_name is None else desired_model_name)\n",
        "print('Selected model for evaluation: ', desired_model_path)"
      ]
    },
    {
      "cell_type": "code",
      "execution_count": null,
      "metadata": {
        "colab": {
          "base_uri": "https://localhost:8080/",
          "height": 557
        },
        "id": "yLC6XDFrUzO-",
        "outputId": "2da29e09-ec61-40ae-e5a7-936287460c71"
      },
      "outputs": [
        {
          "name": "stdout",
          "output_type": "stream",
          "text": [
            "torch.Size([1, 500, 500])\n",
            "torch.Size([1, 500, 500])\n"
          ]
        },
        {
          "data": {
            "image/png": "[encoded data removed]",
            "text/plain": [
              "<Figure size 432x288 with 16 Axes>"
            ]
          },
          "metadata": {},
          "output_type": "display_data"
        },
        {
          "data": {
            "image/png": "[encoded data removed]",
            "text/plain": [
              "<Figure size 432x288 with 16 Axes>"
            ]
          },
          "metadata": {},
          "output_type": "display_data"
        }
      ],
      "source": [
        "from math import sqrt\n",
        "def show_batch(batch):\n",
        "  sidelen = int(sqrt(len(batch)))+1\n",
        "  f, axarr = plt.subplots(sidelen,sidelen)\n",
        "  print(batch[0].size())\n",
        "  batch = [ np.squeeze(t.detach().numpy() if t.requires_grad else t.numpy() , axis=0) for t in batch ]\n",
        "  for i in range(sidelen):\n",
        "    for j in range(sidelen):\n",
        "      index = (sidelen*i)+j\n",
        "      if index >= len(batch):\n",
        "        break\n",
        "      axarr[i][j].imshow(batch[index])\n",
        "\n",
        "net = VAE()\n",
        "net.load_state_dict(torch.load(desired_model_path))\n",
        "net.eval()\n",
        "\n",
        "for i, batch in enumerate(test_loader):\n",
        "  if i != 0:\n",
        "    break \n",
        "  X, y = batch\n",
        "  reconstruction = net.inference(X)\n",
        "  # show orig\n",
        "  # show reconstruction\n",
        "show_batch(X)\n",
        "show_batch(reconstruction)"
      ]
    },
    {
      "cell_type": "code",
      "execution_count": null,
      "metadata": {
        "colab": {
          "base_uri": "https://localhost:8080/"
        },
        "id": "bxB8Yx-ezkNA",
        "outputId": "ece35129-070e-4a4a-de51-8c36bb634d7e"
      },
      "outputs": [
        {
          "data": {
            "text/plain": [
              "True"
            ]
          },
          "execution_count": 36,
          "metadata": {},
          "output_type": "execute_result"
        }
      ],
      "source": [
        "reconstruction.requires_grad"
      ]
    },
    {
      "cell_type": "markdown",
      "metadata": {
        "id": "RMOB72dLUv5o"
      },
      "source": [
        "## Validate Quantitatively"
      ]
    },
    {
      "cell_type": "code",
      "execution_count": null,
      "metadata": {
        "id": "pv0JvM_fVKjK"
      },
      "outputs": [],
      "source": [
        "net = Classifier()\n",
        "net.load_state_dict(torch.load(desired_model_path))\n",
        "net.confidence = 0.75\n",
        "net.eval()\n",
        "\n",
        "def evaluate(model, loader):\n",
        "  all_preds = []\n",
        "  all_labels = []\n",
        "  for i, batch in enumerate(loader):\n",
        "    X, y = batch\n",
        "    out = model.inference(X)\n",
        "    all_preds += list(out.detach().squeeze(1).numpy())\n",
        "    all_labels += list(y.numpy())\n",
        "  all_preds = np.array(all_preds)\n",
        "  all_labels = np.array(all_labels)\n",
        "  f_neg, f_pos, t_neg, t_pos = (np.logical_and(all_preds==0, all_labels==1).sum(), \n",
        "                              np.logical_and(all_preds==1, all_labels==0).sum(), \n",
        "                              np.logical_and(all_preds==0, all_labels==0).sum(), \n",
        "                              np.logical_and(all_preds==1, all_labels==1).sum()\n",
        "                              )\n",
        "  n = float(len(all_labels))\n",
        "  print(f\"False negatives: {f_neg} ({100*f_neg/n}% of total)\")\n",
        "  print(f\"False positives: {f_pos} ({100*f_pos/n}% of total)\")\n",
        "  print(f\"True negatives:  {t_neg} ({100*t_neg/n}% of total)\")\n",
        "  print(f\"True positives:  {t_pos} ({100*t_pos/n}% of total)\")"
      ]
    },
    {
      "cell_type": "code",
      "execution_count": null,
      "metadata": {
        "id": "8kIjR30hVKgD"
      },
      "outputs": [],
      "source": []
    },
    {
      "cell_type": "markdown",
      "metadata": {
        "id": "4lTbqi87CRlg"
      },
      "source": [
        "## TODO:\n",
        "* reduce kernel sizes to make simpler and lower training time/fewer parameters\n",
        "* Try out simple AE, then VAE, then disentangle"
      ]
    },
    {
      "cell_type": "code",
      "execution_count": null,
      "metadata": {
        "colab": {
          "base_uri": "https://localhost:8080/"
        },
        "id": "0_9CHjsuPHKL",
        "outputId": "4a28854b-e8c3-4937-8402-02636ed91313"
      },
      "outputs": [
        {
          "name": "stdout",
          "output_type": "stream",
          "text": [
            "x shape:  torch.Size([10, 113288])\n",
            "x shape:  torch.Size([10, 8, 119, 119])\n",
            "x shape:  torch.Size([10, 1, 500, 500])\n"
          ]
        },
        {
          "data": {
            "text/plain": [
              "torch.Size([10, 1, 500, 500])"
            ]
          },
          "execution_count": 97,
          "metadata": {},
          "output_type": "execute_result"
        }
      ],
      "source": [
        "net = VAE()\n",
        "X, y = next(iter(train_loader))\n",
        "#latent = net.encode(X)\n",
        "#print(f\"Latent shape: {latent.shape}\")\n",
        "out = net(X)\n",
        "out.shape"
      ]
    },
    {
      "cell_type": "code",
      "execution_count": null,
      "metadata": {
        "colab": {
          "base_uri": "https://localhost:8080/"
        },
        "id": "9DsTKpPD81pY",
        "outputId": "50a600ce-d994-44f9-993e-d4508e6f1373"
      },
      "outputs": [
        {
          "data": {
            "text/plain": [
              "253"
            ]
          },
          "execution_count": 68,
          "metadata": {},
          "output_type": "execute_result"
        }
      ],
      "source": [
        "len(ds)"
      ]
    },
    {
      "cell_type": "markdown",
      "metadata": {
        "id": "RgXY_hahLh60"
      },
      "source": [
        "## Idea\n",
        "* What if I try characterizing the latent space. In word embeddings, there are concept vectors like gender. Vec_man - Vec_woman is parallel to Vec_king - Vec_king. What if I'm able to visualize the distribution in latent space (perhaps via dimensionality reduction) and get the \"concept vector\" of tumor, and perhaps some other features? \n",
        "* And then demonstrate generation based on variations of adding that feature to embeddings. So if v_tumor is = tumor_centroid - non_tumor_centroid in embedding space, do the following. 1. Embed a non-tumor image, 2. Add v_tumor to the embedding, 3. Decode and hopefully get a very similar image but with a tumor. Can also do the whole process in reverse, subtracting the v_tumor"
      ]
    },
    {
      "cell_type": "code",
      "execution_count": null,
      "metadata": {
        "id": "UpAN-X_hMSw8"
      },
      "outputs": [],
      "source": []
    }
  ],
  "metadata": {
    "colab": {
      "collapsed_sections": [
        "NcgyXP9l6d6b"
      ],
      "provenance": [],
      "mount_file_id": "1vBR3l898pLkKFpwGbnOCL5m6dF0TLTkx",
      "authorship_tag": "ABX9TyMp7PJA69mRuZbaYD9vRfWz",
      "include_colab_link": true
    },
    "kernelspec": {
      "display_name": "Python 3",
      "name": "python3"
    },
    "language_info": {
      "name": "python"
    },
    "accelerator": "TPU",
    "gpuClass": "standard"
  },
  "nbformat": 4,
  "nbformat_minor": 0
}